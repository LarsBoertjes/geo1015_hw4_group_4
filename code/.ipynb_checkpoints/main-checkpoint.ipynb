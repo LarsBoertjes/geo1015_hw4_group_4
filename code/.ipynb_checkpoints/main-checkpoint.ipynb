{
 "cells": [
  {
   "cell_type": "code",
   "execution_count": 1,
   "id": "83b0395e-0540-467e-8424-3e946bac41f9",
   "metadata": {},
   "outputs": [],
   "source": [
    "import rasterio\n",
    "import pandas as pd\n",
    "import numpy as np\n",
    "import matplotlib\n",
    "import os\n",
    "import pylas\n",
    "import laspy\n",
    "import laszip\n",
    "from pyntcloud import PyntCloud\n",
    "import pdal\n",
    "import json"
   ]
  },
  {
   "cell_type": "code",
   "execution_count": 2,
   "id": "79c8e732-f9fb-4fd4-b74c-0bddfa3b4b04",
   "metadata": {},
   "outputs": [],
   "source": [
    "def get_points(bounds, file):\n",
    "    # make pipelines to input \n",
    "    _pipeline = {\n",
    "        \"pipeline\": [\n",
    "            file,  # input las file, fill your own path\n",
    "            {\n",
    "                \"type\": \"filters.crop\",  # state the filter to operate\n",
    "                \"bounds\": f\"([{bounds[0]},{bounds[1]}],[{bounds[2]},{bounds[3]}])\"  # input parameters for the filter, in the case the boundaries for our window\n",
    "            },\n",
    "            {\n",
    "                \"type\": \"writers.las\",\n",
    "                \"filename\": \"file-cropped.las\"\n",
    "            }\n",
    "        ]\n",
    "    }\n",
    "    pipeline = pdal.Pipeline(json.dumps(_pipeline))  # make pipeline to arrays to stage\n",
    "    pipeline.execute()  # execute the pipeline\n",
    "    assert pipeline.arrays  # validate if the pipeline works, it's expected that there will be some arrays in the pipeline result.\n",
    "    point_cloud = pipeline.arrays[0]  # extract the point cloud data from the first column \n",
    "    pd_pcl = pd.DataFrame(point_cloud)[['Classification', 'X', 'Y', 'Z']]  # convert the point_cloud arrays to Panda DataFrame\n",
    "    pd_pcl.columns = ['classification', 'x', 'y', 'z']  # the column names for the Panda DataFrame\n",
    "    return PyntCloud(pd_pcl)  # create a PyntCloud object from the Pandas DataFrame and return it."
   ]
  },
  {
   "cell_type": "code",
   "execution_count": 9,
   "id": "0c1c0ac8-5a6e-4fb7-b522-39ee4480464c",
   "metadata": {},
   "outputs": [],
   "source": [
    "min_x = 187465.5\n",
    "max_x = min_x + 500\n",
    "min_y = 315228.5\n",
    "max_y = min_y + 500\n",
    "\n",
    "boundary = [min_x, min_y, max_x, max_y]\n",
    "\n",
    "PyntCloud_ = get_points(boundary, '../data/69BZ2_13.LAZ')"
   ]
  },
  {
   "cell_type": "code",
   "execution_count": 10,
   "id": "31531b7b-6839-4d19-ac6a-42184420454a",
   "metadata": {},
   "outputs": [
    {
     "name": "stdout",
     "output_type": "stream",
     "text": [
      "-554.4990000000107\n",
      "-748.5\n"
     ]
    }
   ],
   "source": [
    "print(min(PyntCloud_.points['x']) - max(PyntCloud_.points['x']))\n",
    "print(min(PyntCloud_.points['y']) - max(PyntCloud_.points['y']))"
   ]
  },
  {
   "cell_type": "code",
   "execution_count": 11,
   "id": "496186b6-5efd-4234-961c-c8260b857a74",
   "metadata": {},
   "outputs": [
    {
     "data": {
      "text/html": [
       "<div>\n",
       "<style scoped>\n",
       "    .dataframe tbody tr th:only-of-type {\n",
       "        vertical-align: middle;\n",
       "    }\n",
       "\n",
       "    .dataframe tbody tr th {\n",
       "        vertical-align: top;\n",
       "    }\n",
       "\n",
       "    .dataframe thead th {\n",
       "        text-align: right;\n",
       "    }\n",
       "</style>\n",
       "<table border=\"1\" class=\"dataframe\">\n",
       "  <thead>\n",
       "    <tr style=\"text-align: right;\">\n",
       "      <th></th>\n",
       "      <th>classification</th>\n",
       "      <th>x</th>\n",
       "      <th>y</th>\n",
       "      <th>z</th>\n",
       "    </tr>\n",
       "  </thead>\n",
       "  <tbody>\n",
       "    <tr>\n",
       "      <th>0</th>\n",
       "      <td>2</td>\n",
       "      <td>187465.613</td>\n",
       "      <td>314980.198</td>\n",
       "      <td>170.594</td>\n",
       "    </tr>\n",
       "    <tr>\n",
       "      <th>1</th>\n",
       "      <td>2</td>\n",
       "      <td>187465.833</td>\n",
       "      <td>314980.145</td>\n",
       "      <td>170.569</td>\n",
       "    </tr>\n",
       "    <tr>\n",
       "      <th>2</th>\n",
       "      <td>2</td>\n",
       "      <td>187465.720</td>\n",
       "      <td>314980.466</td>\n",
       "      <td>170.585</td>\n",
       "    </tr>\n",
       "    <tr>\n",
       "      <th>3</th>\n",
       "      <td>2</td>\n",
       "      <td>187465.606</td>\n",
       "      <td>314980.788</td>\n",
       "      <td>170.571</td>\n",
       "    </tr>\n",
       "    <tr>\n",
       "      <th>4</th>\n",
       "      <td>2</td>\n",
       "      <td>187466.119</td>\n",
       "      <td>314980.273</td>\n",
       "      <td>170.595</td>\n",
       "    </tr>\n",
       "    <tr>\n",
       "      <th>...</th>\n",
       "      <td>...</td>\n",
       "      <td>...</td>\n",
       "      <td>...</td>\n",
       "      <td>...</td>\n",
       "    </tr>\n",
       "    <tr>\n",
       "      <th>8856647</th>\n",
       "      <td>2</td>\n",
       "      <td>188000.090</td>\n",
       "      <td>315726.868</td>\n",
       "      <td>150.585</td>\n",
       "    </tr>\n",
       "    <tr>\n",
       "      <th>8856648</th>\n",
       "      <td>2</td>\n",
       "      <td>188000.026</td>\n",
       "      <td>315727.242</td>\n",
       "      <td>150.657</td>\n",
       "    </tr>\n",
       "    <tr>\n",
       "      <th>8856649</th>\n",
       "      <td>2</td>\n",
       "      <td>188000.102</td>\n",
       "      <td>315727.622</td>\n",
       "      <td>150.731</td>\n",
       "    </tr>\n",
       "    <tr>\n",
       "      <th>8856650</th>\n",
       "      <td>1</td>\n",
       "      <td>188000.063</td>\n",
       "      <td>315728.278</td>\n",
       "      <td>166.478</td>\n",
       "    </tr>\n",
       "    <tr>\n",
       "      <th>8856651</th>\n",
       "      <td>2</td>\n",
       "      <td>188000.002</td>\n",
       "      <td>315728.367</td>\n",
       "      <td>150.819</td>\n",
       "    </tr>\n",
       "  </tbody>\n",
       "</table>\n",
       "<p>8856652 rows × 4 columns</p>\n",
       "</div>"
      ],
      "text/plain": [
       "         classification           x           y        z\n",
       "0                     2  187465.613  314980.198  170.594\n",
       "1                     2  187465.833  314980.145  170.569\n",
       "2                     2  187465.720  314980.466  170.585\n",
       "3                     2  187465.606  314980.788  170.571\n",
       "4                     2  187466.119  314980.273  170.595\n",
       "...                 ...         ...         ...      ...\n",
       "8856647               2  188000.090  315726.868  150.585\n",
       "8856648               2  188000.026  315727.242  150.657\n",
       "8856649               2  188000.102  315727.622  150.731\n",
       "8856650               1  188000.063  315728.278  166.478\n",
       "8856651               2  188000.002  315728.367  150.819\n",
       "\n",
       "[8856652 rows x 4 columns]"
      ]
     },
     "execution_count": 11,
     "metadata": {},
     "output_type": "execute_result"
    }
   ],
   "source": [
    "PyntCloud_.points"
   ]
  },
  {
   "cell_type": "code",
   "execution_count": null,
   "id": "7c159f03-fa38-4d0c-84c0-d027c780dafa",
   "metadata": {},
   "outputs": [],
   "source": [
    "with laspy.open('../data/69BZ2_13.LAZ', mode='r') as fh:\n",
    "    # print amount of points\n",
    "    las = fh.read()\n",
    "    print('Points before cropping:', len(las.points))\n",
    "\n",
    "print('Points after cropping:', len(PyntCloud_.points))"
   ]
  },
  {
   "cell_type": "code",
   "execution_count": null,
   "id": "7bec9b53-7bf9-4b82-afa0-5173a5faff75",
   "metadata": {},
   "outputs": [],
   "source": []
  },
  {
   "cell_type": "code",
   "execution_count": 54,
   "id": "70d639f1-901e-4740-b3e0-e87e09f2b1dd",
   "metadata": {},
   "outputs": [
    {
     "name": "stdout",
     "output_type": "stream",
     "text": [
      "Points from data: 212550\n",
      "['X', 'Y', 'Z', 'intensity', 'return_number', 'number_of_returns', 'scan_direction_flag', 'edge_of_flight_line', 'classification', 'synthetic', 'key_point', 'withheld', 'scan_angle_rank', 'user_data', 'point_source_id', 'gps_time']\n",
      "class {2, 6}\n",
      "84699798 447000005 971 <SubFieldView(2)>\n",
      "84699734 447000411 958 <SubFieldView(2)>\n",
      "84699414 447000163 973 <SubFieldView(2)>\n",
      "84699967 447000929 944 <SubFieldView(2)>\n",
      "84699669 447000697 962 <SubFieldView(2)>\n",
      "84699376 447000473 955 <SubFieldView(2)>\n",
      "84699076 447000239 978 <SubFieldView(2)>\n",
      "84698775 447000005 1011 <SubFieldView(2)>\n",
      "84699904 447001248 920 <SubFieldView(2)>\n",
      "84699611 447001019 958 <SubFieldView(2)>\n"
     ]
    }
   ],
   "source": [
    "# las = laspy.read('data\\crop.laz')\n",
    "#\n",
    "# new_file = laspy.create(point_format=las.header.point_format, file_version=las.header.version)\n",
    "# new_file.points = las.points[las.classification == 1]\n",
    "#\n",
    "# new_file.write('extracted_points.las')\n",
    "\n",
    "# selection is needed to unpack laz, I found decompres_z but I'm not sure if this should be something else\n",
    "selection = laspy.DecompressionSelection.base().decompress_z()\n",
    "\n",
    "with laspy.open('../data/crop.LAZ', mode='r') as fh:\n",
    "    # print amount of points\n",
    "    las = fh.read()\n",
    "    print('Points from data:', len(las.points))\n",
    "    print(list(las.point_format.standard_dimension_names))\n",
    "    a_lst = []\n",
    "    \n",
    "    class_lst = list(las.classification)\n",
    "    print('class',  set(class_lst))\n",
    "    for n, point in enumerate(las.points[:10]):\n",
    "        # unpack values\n",
    "        x = point.array['X']\n",
    "        y = point.array['Y']\n",
    "        z = point.array['Z']\n",
    "        classification = point.classification\n",
    "        a = point.array[8]\n",
    "        a_lst.append(a)\n",
    "        # print(point.array)\n",
    "        # in array the following can be extracted (according to point format 0 in documentation:\n",
    "        # intensity, return_number, number_of_returns, scan_direction_flag, edge_of_flight_line, classification,\n",
    "        # synthetic, key_point, withheld, scan_angle_rank, user_data, point_source_id\n",
    "        print(x, y, z, classification)#, classification)"
   ]
  },
  {
   "cell_type": "code",
   "execution_count": null,
   "id": "0553faa3-b4e8-4a8d-92ea-2662dd5aa133",
   "metadata": {},
   "outputs": [],
   "source": [
    "ty\n"
   ]
  }
 ],
 "metadata": {
  "kernelspec": {
   "display_name": "Python 3 (ipykernel)",
   "language": "python",
   "name": "python3"
  },
  "language_info": {
   "codemirror_mode": {
    "name": "ipython",
    "version": 3
   },
   "file_extension": ".py",
   "mimetype": "text/x-python",
   "name": "python",
   "nbconvert_exporter": "python",
   "pygments_lexer": "ipython3",
   "version": "3.11.5"
  }
 },
 "nbformat": 4,
 "nbformat_minor": 5
}

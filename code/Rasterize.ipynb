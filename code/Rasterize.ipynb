{
 "cells": [
  {
   "cell_type": "code",
   "execution_count": 1,
   "id": "38d29287-c9ce-4819-a5aa-a21b520a650a",
   "metadata": {},
   "outputs": [],
   "source": [
    "import rasterio\n",
    "import numpy as np\n",
    "import laspy\n",
    "import laszip\n",
    "from rasterio.transform import from_origin"
   ]
  },
  {
   "cell_type": "code",
   "execution_count": 2,
   "id": "264cfa87-38b9-4936-8de9-f5869c9df47a",
   "metadata": {},
   "outputs": [],
   "source": [
    "input_file = 'unclassified_points_with_one_return.las'"
   ]
  },
  {
   "cell_type": "code",
   "execution_count": 3,
   "id": "08ebaa28-be94-4a5d-b13a-11414643ffc6",
   "metadata": {},
   "outputs": [
    {
     "name": "stdout",
     "output_type": "stream",
     "text": [
      "Points from data: 585287\n"
     ]
    }
   ],
   "source": [
    "with laspy.open(input_file, mode='r') as fh:\n",
    "    # print amount of points\n",
    "    las = fh.read()\n",
    "    print('Points from data:', len(las.points))\n",
    "    min_boundaing_box_x = min(las['x'])\n",
    "    min_boundaing_box_y = min(las['y'])\n",
    "    max_boundaing_box_x = max(las['x'])\n",
    "    max_boundaing_box_y = max(las['y'])"
   ]
  },
  {
   "cell_type": "code",
   "execution_count": 4,
   "id": "ac0483d5-9f79-41f3-8571-ff10d4c50819",
   "metadata": {},
   "outputs": [
    {
     "data": {
      "text/plain": [
       "((187465.5, 315228.5), (187965.5, 315728.5))"
      ]
     },
     "execution_count": 4,
     "metadata": {},
     "output_type": "execute_result"
    }
   ],
   "source": [
    "(min_boundaing_box_x, min_boundaing_box_y), (max_boundaing_box_x, max_boundaing_box_y)"
   ]
  },
  {
   "cell_type": "code",
   "execution_count": 5,
   "id": "f14a6717-c4bb-46b5-8dfe-aad5774bc735",
   "metadata": {},
   "outputs": [
    {
     "name": "stdout",
     "output_type": "stream",
     "text": [
      "['X', 'Y', 'Z', 'intensity', 'return_number', 'number_of_returns', 'scan_direction_flag', 'edge_of_flight_line', 'classification', 'synthetic', 'key_point', 'withheld', 'scan_angle_rank', 'user_data', 'point_source_id', 'gps_time', 'red', 'green', 'blue']\n"
     ]
    }
   ],
   "source": [
    "print(list(las.point_format.standard_dimension_names))"
   ]
  },
  {
   "cell_type": "code",
   "execution_count": 6,
   "id": "1780c167-e191-4708-8588-3ef500f6997a",
   "metadata": {},
   "outputs": [],
   "source": [
    "raster_vegetation = np.empty((int((max_boundaing_box_x-min_boundaing_box_x)/0.5), \n",
    "                      int((max_boundaing_box_y-min_boundaing_box_y)/0.5)))\n",
    "raster_vegetation[:] = 0\n",
    "for n, point in enumerate(las.points):\n",
    "    x = point.array['X']/ 100\n",
    "    y = point.array['Y']/ 100\n",
    "    z = point.array['Z']/ 100\n",
    "    diff_x = (x - min_boundaing_box_x) * 0.9999999\n",
    "    diff_y = (y - min_boundaing_box_y) * 0.9999999\n",
    "    x_index = int(diff_x/0.5)\n",
    "    y_index = 999 - int(diff_y/0.5)\n",
    "    if raster_vegetation[y_index, x_index] < z:\n",
    "        raster_vegetation[y_index, x_index] = z"
   ]
  },
  {
   "cell_type": "code",
   "execution_count": 7,
   "id": "93f04aa9-87ec-4665-aa50-64a039ea83af",
   "metadata": {},
   "outputs": [],
   "source": [
    "# Specify the top-left coordinates in the CRS (not latitude and longitude)\n",
    "top_left_x = min_boundaing_box_x  # Replace with your desired X-coordinate\n",
    "top_left_y = max_boundaing_box_y  # Replace with your desired Y-coordinate\n",
    "\n",
    "# Define the pixel size (resolution)\n",
    "pixel_size_x = 0.5  # Replace with your desired X resolution\n",
    "pixel_size_y = 0.5  # Replace with your desired Y resolution (negative for north-up)\n",
    "\n",
    "# Create a transform from the specified parameters\n",
    "transform = from_origin(top_left_x, top_left_y, pixel_size_x, pixel_size_y)\n"
   ]
  },
  {
   "cell_type": "code",
   "execution_count": 8,
   "id": "e01bd21c-96fd-41ca-9b25-7f6756f32d3b",
   "metadata": {},
   "outputs": [],
   "source": [
    "output_file = \"raster_vegetation.tiff\"\n",
    "with rasterio.open(output_file, 'w',\n",
    "                    driver='GTiff',\n",
    "                    height=raster_vegetation.shape[0],\n",
    "                    width=raster_vegetation.shape[1],\n",
    "                    count=1,\n",
    "                    dtype=raster_vegetation.dtype,\n",
    "                    crs=rasterio.crs.CRS.from_epsg(7415),\n",
    "                    transform=transform) as dst:\n",
    "            dst.write(raster_vegetation, 1)"
   ]
  },
  {
   "cell_type": "code",
   "execution_count": null,
   "id": "0efd0fd7-9eef-4e7a-8f67-8122d599bab1",
   "metadata": {},
   "outputs": [],
   "source": []
  }
 ],
 "metadata": {
  "kernelspec": {
   "display_name": "Python 3 (ipykernel)",
   "language": "python",
   "name": "python3"
  },
  "language_info": {
   "codemirror_mode": {
    "name": "ipython",
    "version": 3
   },
   "file_extension": ".py",
   "mimetype": "text/x-python",
   "name": "python",
   "nbconvert_exporter": "python",
   "pygments_lexer": "ipython3",
   "version": "3.11.5"
  }
 },
 "nbformat": 4,
 "nbformat_minor": 5
}
